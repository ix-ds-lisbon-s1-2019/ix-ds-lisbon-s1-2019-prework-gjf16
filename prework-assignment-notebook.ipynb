{
 "cells": [
  {
   "cell_type": "markdown",
   "metadata": {},
   "source": [
    "# Prework Assignment"
   ]
  },
  {
   "cell_type": "markdown",
   "metadata": {},
   "source": [
    "### General Background Questions"
   ]
  },
  {
   "cell_type": "markdown",
   "metadata": {},
   "source": [
    "1. Why is version control important in science?"
   ]
  },
  {
   "cell_type": "code",
   "execution_count": 1,
   "metadata": {},
   "outputs": [],
   "source": [
    "# A Version Control System (VCS) creates an organized record of a project. All changes made are accompanied with notes and are stored independently, allowing  the user to revert back to an earlier version if necessary. Where a centralized VCS has a central server and master copy, a decentralized VCS like Git enables every copy to be the serve or the client. This nature allows every contributor to work to independently and remotely, due to each repository having the complete history of changes. In science, version control is necessary to organize results, build upon findings, and allow reproducibility. Without it, it would be possible for many researchers to work on the same project and thereby decrease productivity. Likewise, the absence of version control would allow false information to be published and used for further research."
   ]
  },
  {
   "cell_type": "markdown",
   "metadata": {},
   "source": [
    "2. What kind of research artifacts can we track with Git?"
   ]
  },
  {
   "cell_type": "code",
   "execution_count": 1,
   "metadata": {},
   "outputs": [],
   "source": [
    "# Git can track any and all changes made during a project. Because the Git system tracks all changes, it is easy to go back to an earlier point if necessary, for the purpose of restarting a study or conducting multiple studies from a particular point. It can also keep a manuscript of a lab notebook, given the researcher inputs detailed but concise notes. Git has the capability of managing data sets of various types, such as spreadsheets, observations, or recordings. It can also manage large data sets and make them usable for the current project."
   ]
  },
  {
   "cell_type": "markdown",
   "metadata": {},
   "source": [
    "3. What are the three main things that can go wrong in a data science project?"
   ]
  },
  {
   "cell_type": "code",
   "execution_count": 1,
   "metadata": {},
   "outputs": [],
   "source": [
    "# The three main things that can go wrong in a data science project can be summed up as follows: \n",
    "# 1. Wrong Data - A project starts based on the assumptions of the data, so there is a good chance what is found is not what is intended. Data can be stored somewhere it can not be accessed, in a format that can not be accessed, or just no exist at all. It is imperative to have strong, valid assumptions of the data prior to starting a project.   \n",
    "# 2. Wrong Model - There is a chance that the model is wrong, but it is more likely there is no signal within the data. Regardless of how mediocre a model is, a signal will show if it exists. So if no signal is found, it is usually not due to the scientist. \n",
    "# 3. Wrong Problem - It is necessary to keep focused on the customer’s need. Scientists often get caught up in their “masterpiece” that the main goal is missed or a complicated route is taken. Flops happen in all companies, but it is important to listen to the customer’s needs to prevent them. "
   ]
  },
  {
   "cell_type": "markdown",
   "metadata": {},
   "source": [
    "### Python Background Questions"
   ]
  },
  {
   "cell_type": "markdown",
   "metadata": {},
   "source": [
    "These short exercises are a way to familiarize yourself with python. If you find these exercises too difficult, don’t worry! We will review the basics the first day to make sure we are all comfortable coding in Python.\n",
    "\n",
    "Please save your work in this document and `git push` them to the `prework-assignment` repo.\n",
    "\n",
    "----------------------------------------------------------------"
   ]
  },
  {
   "cell_type": "markdown",
   "metadata": {},
   "source": [
    "### Problem 1: Basic Operations"
   ]
  },
  {
   "cell_type": "markdown",
   "metadata": {},
   "source": [
    "You are at Vanessa's Vegan Cafe and you loved it so much you wanna leave a tip. Write a function that takes the amount owed and calculates how much money you pay with an 18% tip. If functions still scare you, just the solution code will do."
   ]
  },
  {
   "cell_type": "code",
   "execution_count": 1,
   "metadata": {},
   "outputs": [],
   "source": [
    "amountOwed = input()\n",
    "amountOwed = float(amountOwed)\n",
    "tip = amountOwed * .18\n",
    "youOwe = amountOwed + tip\n",
    "print(youOwe)"
   ]
  },
  {
   "cell_type": "markdown",
   "metadata": {},
   "source": [
    "----------------------------------------------------------------"
   ]
  },
  {
   "cell_type": "markdown",
   "metadata": {},
   "source": [
    "### Problem 2: Lists"
   ]
  },
  {
   "cell_type": "markdown",
   "metadata": {},
   "source": [
    "I have a fortune cookie that says my lucky numbers are:\n",
    "\n",
    "       [23, 54, 6, 8, 10078, 3]\n",
    "\n",
    "Write a function that returns 3 lists (if functions still scare you, just the solution code will do)\n",
    "   - replace the number 6 with 1\n",
    "   - the above list in decreasing order\n",
    "   - all values greater than 15"
   ]
  },
  {
   "cell_type": "code",
   "execution_count": 1,
   "metadata": {},
   "outputs": [],
   "source": [
    "fortune = [23, 54, 6, 8, 10078, 3]\n",
    "\n",
    "fortune1 = fortune\n",
    "fortune1[2] = 1\n",
    "\n",
    "fortune2 = fortune\n",
    "fortune2.sort()\n",
    "\n",
    "fortune3 = fortune\n",
    "fortune3.remove(6)\n",
    "fortune3.remove(8)\n",
    "fortune3.remove(3)\n",
    "\n",
    "fortune1, fortune2, fortune3"
   ]
  },
  {
   "cell_type": "markdown",
   "metadata": {},
   "source": [
    "----------------------------------------------------------------"
   ]
  },
  {
   "cell_type": "markdown",
   "metadata": {},
   "source": [
    "### Problem 3: Basic Operations"
   ]
  },
  {
   "cell_type": "markdown",
   "metadata": {},
   "source": [
    "Let's now take the first step in coding some real data science. Write a statement that loads the `numpy` library into the interpreter and gives it an alias of `np`."
   ]
  },
  {
   "cell_type": "code",
   "execution_count": 1,
   "metadata": {},
   "outputs": [],
   "source": [
    "import numpy as np"
   ]
  },
  {
   "cell_type": "markdown",
   "metadata": {},
   "source": [
    "----------------------------------------------------------------"
   ]
  },
  {
   "cell_type": "markdown",
   "metadata": {},
   "source": [
    "### Problem 4: Numpy"
   ]
  },
  {
   "cell_type": "markdown",
   "metadata": {},
   "source": [
    "Generated a 10x10 `numpy` array with random numbers and slice the array to get the 2nd and 3rd column. Also calculate the average of 6th column using `numpy`."
   ]
  },
  {
   "cell_type": "code",
   "execution_count": 1,
   "metadata": {},
   "outputs": [],
   "source": [
    "array = np.random.randint(0, 10, (10, 10))\n",
    "array[:10,1:3] # 2nd and 3rd column\n",
    "\n",
    "col6 = array[:10,5:6]\n",
    "col6.mean() # mean of 6th column"
   ]
  },
  {
   "cell_type": "markdown",
   "metadata": {},
   "source": [
    "----------------------------------------------------------------"
   ]
  },
  {
   "cell_type": "markdown",
   "metadata": {},
   "source": [
    "##### That's it! We look forward to seeing you in class!"
   ]
  }
 ],
 "metadata": {
  "kernelspec": {
   "display_name": "Python 3",
   "language": "python",
   "name": "python3"
  },
  "language_info": {
   "codemirror_mode": {
    "name": "ipython",
    "version": 3
   },
   "file_extension": ".py",
   "mimetype": "text/x-python",
   "name": "python",
   "nbconvert_exporter": "python",
   "pygments_lexer": "ipython3",
   "version": "3.7.3"
  }
 },
 "nbformat": 4,
 "nbformat_minor": 2
}
